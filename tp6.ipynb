{
 "cells": [
  {
   "cell_type": "code",
   "execution_count": 95,
   "id": "2c311b5d",
   "metadata": {},
   "outputs": [
    {
     "name": "stdout",
     "output_type": "stream",
     "text": [
      "# ****************************************************************************\n",
      "#  FONCTIONS DE SAGEMATH\n",
      "# ****************************************************************************\n",
      "\n",
      "False\n",
      "2*x^2*y\n",
      "2\n",
      "x^2*y\n",
      "\n",
      "$1/  x est inférieur a y^2 car on utilise l'ordre lexicographique\n",
      "Par ordre lexicographique, le terme en 2*x^2 est le plus grand car tous les autres n'ont pas de x dedans\n",
      "Donc le coefficient domimant est 2 et le monôme dominant est x^2\n"
     ]
    }
   ],
   "source": [
    "print(\"\"\"\\\n",
    "# ****************************************************************************\n",
    "#  FONCTIONS DE SAGEMATH\n",
    "# ****************************************************************************\n",
    "\"\"\")\n",
    "\n",
    "\n",
    "# Donnees de l'enonce de l'exercice\n",
    "\n",
    "MPol.<x,y,z> = PolynomialRing(QQ,3, order='lex')\n",
    "f = 2*x^2*y+7*z^3\n",
    "\n",
    "# Code pour l'EXERCICE\n",
    "\n",
    "print(x<y^2)\n",
    "print(f.lt())\n",
    "print(f.lc())\n",
    "print(f.lm())\n",
    "\n",
    "reponse  =\"\"\"x est inférieur a y^2 car on utilise l'ordre lexicographique\n",
    "Par ordre lexicographique, le terme en 2*x^2 est le plus grand car tous les autres n'ont pas de x dedans\n",
    "Donc le coefficient domimant est 2 et le monôme dominant est x^2\"\"\"\n",
    "\n",
    "# # Affichage des resultats\n",
    "\n",
    "print(\"\\n$1/ \", reponse)\n",
    "\n",
    "reset()"
   ]
  },
  {
   "cell_type": "code",
   "execution_count": 96,
   "id": "02975f04",
   "metadata": {},
   "outputs": [
    {
     "name": "stdout",
     "output_type": "stream",
     "text": [
      "# ****************************************************************************\n",
      "# DIVISION MULTIVARIEE\n",
      "# ****************************************************************************\n",
      "\n",
      "\n",
      "$  ([3*y, -x^2 + x*y + 2], -2*x^4*y + 5*y^3)\n"
     ]
    }
   ],
   "source": [
    "print(\"\"\"\\\n",
    "# ****************************************************************************\n",
    "# DIVISION MULTIVARIEE\n",
    "# ****************************************************************************\n",
    "\"\"\")\n",
    "\n",
    "# Donnees de l'enonce de l'exercice\n",
    "\n",
    "MPol.<x,y> = PolynomialRing(QQ,2, order='lex')\n",
    "f  = -x^7 + x^6*y + 2*x^5 - 2*x^4*y - 5*x^2 + 3*x*y^3 + 5*x*y + 11*y^3 + 10 \n",
    "f1 = x*y^2+2*y^2\n",
    "f2 = x^5+5\n",
    "\n",
    "# Code pour l'EXERCICE\n",
    "\n",
    "def testDiv(p,F):\n",
    "    for i in range(len(F)):\n",
    "        if F[i]!=0:\n",
    "            if p.lt()%F[i].lt()==0 :\n",
    "                return (True,i)\n",
    "    return (False,-1)\n",
    "\n",
    "def myDivision(f,F):\n",
    "    MPol = f.parent()\n",
    "    n = MPol.ngens()\n",
    "    s = len(F)\n",
    "    Q = [MPol(0)]*s\n",
    "    r = MPol(0)\n",
    "    p = f\n",
    "    while p!=MPol(0) :\n",
    "        b,i = testDiv(p,F)\n",
    "        if b :\n",
    "            Q[i]= Q[i]+p.lt()//F[i].lt()\n",
    "            p = p - ((p.lt()//F[i].lt())*F[i])\n",
    "        else :\n",
    "            r = r + p.lt()\n",
    "            p = p - p.lt()\n",
    "    assert(f==sum(q*g for q,g in zip(Q,F) )+r)\n",
    "    return Q,r\n",
    "\n",
    "# # Affichage des resultats\n",
    "\n",
    "print(\"\\n$ \",  myDivision(f,[f1,f2]))"
   ]
  },
  {
   "cell_type": "code",
   "execution_count": 97,
   "id": "e2a89b3b",
   "metadata": {},
   "outputs": [
    {
     "name": "stdout",
     "output_type": "stream",
     "text": [
      "# ****************************************************************************\n",
      "# BASE DE GROEBNER\n",
      "# ****************************************************************************\n",
      "\n",
      "\n",
      "$1/  [-y^2*z^3 - y^2, x^2 - y, y^3 - z^2, -x*z + y^2, x*z^4 + y^2, x*y + z^4, y^2*z^3 + y^2, x*y - z, x*z - y^2, z^4 + z, -z^4 - z, -x*z^4 - y^2, -y^3 + z^2]\n",
      "\n",
      "$2/  [x^2 - y, y^2*z^3 + y^2, x*y - z, x*z - y^2, z^4 + z, y^3 - z^2]\n"
     ]
    }
   ],
   "source": [
    "print(\"\"\"\\\n",
    "# ****************************************************************************\n",
    "# BASE DE GROEBNER\n",
    "# ****************************************************************************\n",
    "\"\"\")\n",
    "\n",
    "# Donnees de l'enonce de l'exercice\n",
    "\n",
    "MPol.<x,y,z> = PolynomialRing(QQ,3, order='lex')\n",
    "f1 = x^2-y\n",
    "f2 = x*y-z\n",
    "f3 = z^4+x*y\n",
    "\n",
    "# Code pour l'EXERCICE\n",
    "\n",
    "def myGroebner(F):\n",
    "    G=F.copy()\n",
    "    S=[1]\n",
    "    s = lambda g, h : (lcm(g.lt(),h.lt())//g.lt())*g - (lcm(g.lt(),h.lt())//h.lt())*h\n",
    "    while S :\n",
    "        S=[]\n",
    "        for g in G :\n",
    "            for h in G :\n",
    "                r = s(g,h)\n",
    "                _, r = myDivision(r,G)\n",
    "                if r != 0 :\n",
    "                    S+=[r]\n",
    "        G+=S\n",
    "    G=list(set(G))\n",
    "    return G\n",
    "         \n",
    "def testIfRemovableElement(G):\n",
    "    for i in range(len(G)):\n",
    "        g = G[i]\n",
    "        if g.lt() in Ideal([f.lt() for f in G if f!=g]) :\n",
    "            return (True,i)\n",
    "    return (False, -1)\n",
    "        \n",
    "    \n",
    "def myRedGroebner(F):\n",
    "    G=myGroebner(F)\n",
    "    b, i = testIfRemovableElement(G)\n",
    "    while b :\n",
    "        G.pop(i)\n",
    "        b, i = testIfRemovableElement(G)\n",
    "    for i in range(len(G)) :\n",
    "        G[i]=G[i]/G[i].lc()\n",
    "    return G\n",
    "    \n",
    "\n",
    "def myRedGroebner2(F):\n",
    "    G=myGroebner(F)\n",
    "    for i in range(len(G)) :\n",
    "        g=G[i]\n",
    "        _, r = myDivision(g,[f for f in G if f!=g])\n",
    "        if r!=0 :\n",
    "            G[i]=r/r.lc()\n",
    "        else:  \n",
    "            G[i]=r\n",
    "    i=0\n",
    "    while i<len(G):\n",
    "        if G[i]==0:\n",
    "            G.pop(i)\n",
    "        else :\n",
    "            i+=1\n",
    "    return G\n",
    "    \n",
    "# # Affichage des resultats\n",
    "\n",
    "print(\"\\n$1/ \",myGroebner([f1,f2,f3]))\n",
    "print(\"\\n$2/ \",myRedGroebner2([f1,f2,f3]))"
   ]
  },
  {
   "cell_type": "code",
   "execution_count": 98,
   "id": "4d60fd57",
   "metadata": {},
   "outputs": [
    {
     "name": "stdout",
     "output_type": "stream",
     "text": [
      "# ****************************************************************************\n",
      "# APPARTENANCE A UN IDEAL\n",
      "# ****************************************************************************\n",
      "\n",
      "\n",
      "$ Test de Sage  False\n",
      "\n",
      "$ Test de personnel  False\n"
     ]
    }
   ],
   "source": [
    "print(\"\"\"\\\n",
    "# ****************************************************************************\n",
    "# APPARTENANCE A UN IDEAL\n",
    "# ****************************************************************************\n",
    "\"\"\")\n",
    "\n",
    "\n",
    "# Donnees de l'enonce de l'exercice\n",
    "\n",
    "MPol.<x,y,z> = PolynomialRing(QQ,3, order='lex')\n",
    "f1 = x*y-y^2\n",
    "f2 = x^3-z^2\n",
    "I = Ideal([f1,f2])\n",
    "f = -4*x^2*y^2*z^2 + y^6 + 3*z^5\n",
    "\n",
    "# Code pour l'EXERCICE\n",
    "\n",
    "test1 = f in I\n",
    "_, r = myDivision(f,I.groebner_basis())\n",
    "test2 = (r==0) # A ECRIRE VOUS-MEME\n",
    "\n",
    "\n",
    "# # Affichage des resultats\n",
    "\n",
    "print(\"\\n$ Test de Sage \",test1)\n",
    "print(\"\\n$ Test de personnel \",test2)\n",
    "\n",
    "reset()"
   ]
  },
  {
   "cell_type": "code",
   "execution_count": 99,
   "id": "ddb5b6e2",
   "metadata": {},
   "outputs": [
    {
     "name": "stdout",
     "output_type": "stream",
     "text": [
      "# ****************************************************************************\n",
      "# RESOLUTION D'UN SYSTEME\n",
      "# ****************************************************************************\n",
      "\n",
      "\n",
      "$1/  Une base de Groebner de [f,g] est [x^2 - 5*x + y^2 - 5*y + 12, x*y^2 - 5*x*y + 6*x + y^3 - 6*y^2 + 11*y - 6, y^4 - 6*y^3 + 15*y^2 - 26*y + 24]\n",
      "\n",
      "$2/  Les valeurs de y sont [3, 2]\n",
      "\n",
      "$4/  Les valeurs de (x,y) sont [(2, 3), (3, 2), (3, 3), (2, 2)]\n",
      "\n",
      "$4/\n"
     ]
    },
    {
     "data": {
      "image/png": "[encoded data removed]",
      "text/plain": [
       "Graphics object consisting of 3 graphics primitives"
      ]
     },
     "metadata": {},
     "output_type": "display_data"
    }
   ],
   "source": [
    "print(\"\"\"\\\n",
    "# ****************************************************************************\n",
    "# RESOLUTION D'UN SYSTEME\n",
    "# ****************************************************************************\n",
    "\"\"\")\n",
    "\n",
    "\n",
    "# Donnees de l'enonce de l'exercice\n",
    "\n",
    "\n",
    "MPol.<x,y> = PolynomialRing(QQ,2,order='lex') # QUEL ORDRE DEVEZ-VOUS CHOISIR ?\n",
    "f = (y^2+6)*(x-1) - y*(x^2 + 1)\n",
    "g = (x^2+6)*(y-1) - x*(y^2 + 1)\n",
    " \n",
    "\n",
    "# Code pour l'EXERCICE\n",
    "\n",
    "I = Ideal(f,g)\n",
    "\n",
    "base = I.groebner_basis() # Vous pouvez utiliser la fonction adhoc de sage\n",
    "                          # pour calculer la base Groebner\n",
    "racines_y = [y for (y,_) in base[2].univariate_polynomial().roots()] \n",
    "racinesf = [(x,racines_y[0]) for (x,_) in f.subs({y:racines_y[0]}).univariate_polynomial().roots()]+ [(x,racines_y[1]) for (x,_) in f.subs({y:racines_y[1]}).univariate_polynomial().roots()]\n",
    "racinesg = [(x,racines_y[0]) for (x,_) in g.subs({y:racines_y[0]}).univariate_polynomial().roots()]+ [(x,racines_y[1]) for (x,_) in g.subs({y:racines_y[1]}).univariate_polynomial().roots()]\n",
    "racinesf = set(racinesf)\n",
    "racinesg = set(racinesg)\n",
    "racines  = [(x,y) for (x,y) in racinesf if (x,y) in racinesg]\n",
    "\n",
    "Gf = implicit_plot(f,(x,0,6),(y,0,6),color='red') \n",
    "Gg = implicit_plot(g,(x,0,6),(y,0,6),color='blue')  \n",
    "Gp = point2d(racines,color='green')\n",
    "\n",
    "# # Affichage des resultats\n",
    "\n",
    "print(\"\\n$1/  Une base de Groebner de [f,g] est\", base)\n",
    "print(\"\\n$2/  Les valeurs de y sont\", racines_y)\n",
    "print(\"\\n$4/  Les valeurs de (x,y) sont\", racines)\n",
    "print(\"\\n$4/\")\n",
    "show(Gf+Gg+Gp)\n",
    "\n",
    "reset()"
   ]
  },
  {
   "cell_type": "code",
   "execution_count": 101,
   "id": "38dc9f6c",
   "metadata": {},
   "outputs": [
    {
     "name": "stdout",
     "output_type": "stream",
     "text": [
      "# ****************************************************************************\n",
      "# OPTIMISATION\n",
      "# ****************************************************************************\n",
      "\n",
      "(2*x*y - 2*y, x^2 - 2*x + 1) (2*x*lamb, 2*y*lamb)\n",
      "\n",
      "$1/  On doit resoudre le systeme [-2*x*y + 2*x*lamb + 2*y, -x^2 + 2*x + 2*y*lamb - 1, x^2 + y^2 - 1]\n",
      "\n",
      "$2/  dont une base de Groebner est [x + 1/2*y^2 + 2/5*lamb^2 - 1, y^3 - 16/25*lamb^3 + 2*lamb, y*lamb - 2/5*lamb^2, lamb^4 - 125/36*lamb^2]\n",
      "\n",
      "$4/  Les valeurs de (x,y) sont [(-0.666666666666667, -0.745355992499930), (-0.666666666666667, 0.745355992499930)]\n"
     ]
    }
   ],
   "source": [
    "print(\"\"\"\\\n",
    "# ****************************************************************************\n",
    "# OPTIMISATION\n",
    "# ****************************************************************************\n",
    "\"\"\")\n",
    "\n",
    "\n",
    "# Donnees de l'enonce de l'exercice\n",
    "\n",
    "\n",
    "MPol.<x,y,lamb> = PolynomialRing(QQ,3,order='lex') # QUEL ORDRE DEVEZ-VOUS CHOISIR ?\n",
    "f = x^2*y  - 2*x*y + y + 1\n",
    "g = x^2 + y^2 - 1\n",
    "\n",
    "\n",
    "# Code pour l'EXERCICE\n",
    "\n",
    "gradf = vector(MPol,[f.derivative(x),f.derivative(y)])\n",
    "gradg = vector(MPol,[lamb*g.derivative(x),lamb*g.derivative(y)])\n",
    "\n",
    "print(gradf, gradg)\n",
    "\n",
    "syst = [gradg[0]-gradf[0],gradg[1]-gradf[1],g]\n",
    "I = Ideal(syst)\n",
    "base = I.groebner_basis()\n",
    "lamb_possibles = [lamb  for (lamb,_) in base[3].univariate_polynomial().roots(RR) if lamb!=0]\n",
    "y_possibles1 = [(yy,l) for l in lamb_possibles for yy,_ in base[2].subs({lamb:l}).univariate_polynomial().roots(RR)]\n",
    "y_possibles2 = [(yy,l) for l in lamb_possibles for yy,_ in base[1].subs({lamb:l}).univariate_polynomial().roots(RR)]\n",
    "# on constate qu'on obtient numériquement les mêmes racines donc on garde y_possibles1\n",
    "racines=[(xx,yy) for (yy,l) in y_possibles1 for xx,_ in base[0].subs({lamb:l,y:yy}).univariate_polynomial().roots(RR)]\n",
    "print(\"\\n$1/  On doit resoudre le systeme\", syst)\n",
    "print(\"\\n$2/  dont une base de Groebner est\", base)\n",
    "print(\"\\n$4/  Les valeurs de (x,y) sont\", racines)\n",
    "\n",
    "\n",
    "\n",
    "\n",
    "\n",
    "reset()"
   ]
  },
  {
   "cell_type": "code",
   "execution_count": 102,
   "id": "86f33aee",
   "metadata": {},
   "outputs": [
    {
     "ename": "SyntaxError",
     "evalue": "invalid syntax (1215659594.py, line 15)",
     "output_type": "error",
     "traceback": [
      "\u001b[0;36m  Cell \u001b[0;32mIn[102], line 15\u001b[0;36m\u001b[0m\n\u001b[0;31m    print(x**Integer(2)+Integer(45)*x*y in I)µ\u001b[0m\n\u001b[0m                                             ^\u001b[0m\n\u001b[0;31mSyntaxError\u001b[0m\u001b[0;31m:\u001b[0m invalid syntax\n"
     ]
    }
   ],
   "source": [
    "MPol.<x,y,lamb> = PolynomialRing(QQ,3,order='lex')\n",
    "f = x^2*y  - 2*x*y + y + 1\n",
    "g = x^2 + y^2 - 1\n",
    "\n",
    "# Code pour l'EXERCICE\n",
    "\n",
    "gradf = vector(MPol,[f.derivative(x),f.derivative(y)])\n",
    "gradg = vector(MPol,[lamb*g.derivative(x),lamb*g.derivative(y)])\n",
    "\n",
    "print(gradf, gradg)\n",
    "\n",
    "syst = [gradg[0]-gradf[0],gradg[1]-gradf[1],g]\n",
    "I = Ideal(syst)\n",
    "base = I.groebner_basis()\n",
    "print(x^2+45*x*y in I)µ"
   ]
  },
  {
   "cell_type": "code",
   "execution_count": 140,
   "id": "5a399149",
   "metadata": {},
   "outputs": [
    {
     "name": "stdout",
     "output_type": "stream",
     "text": [
      "# ****************************************************************************\n",
      "# MANIPULATIONS ALGEBRIQUES\n",
      "# ****************************************************************************\n",
      "\n",
      "1/16*u^2*v^2 - 3/8*u^2*v + 7/16*u^2 + 1/8*v^2 - 1/8*v - 1/8\n",
      "\n",
      "$1/ \n"
     ]
    }
   ],
   "source": [
    "print(\"\"\"\\\n",
    "# ****************************************************************************\n",
    "# MANIPULATIONS ALGEBRIQUES\n",
    "# ****************************************************************************\n",
    "\"\"\")\n",
    "\n",
    "\n",
    "# Donnees de l'enonce de l'exercice\n",
    "\n",
    "# Code pour l'EXERCICE\n",
    "MPol.<x,y,u,v> = PolynomialRing(QQ,4,order='degrevlex')\n",
    "# x represente cos(theta), y represente sin(theta)\n",
    "f1=x+y - u\n",
    "f2=x^2 - y^2 + 2*x*y - v\n",
    "f3= x^2 + y^2 - 1\n",
    "I = Ideal(f1,f2,f3)\n",
    "formule = I.reduce(y^6)\n",
    "# # Affichage des resultats\n",
    "\n",
    "print(\"\\n$1/ \", formule)\n",
    "\n",
    "reset()"
   ]
  },
  {
   "cell_type": "code",
   "execution_count": 132,
   "id": "b1a95d8c",
   "metadata": {},
   "outputs": [
    {
     "name": "stdout",
     "output_type": "stream",
     "text": [
      "# ****************************************************************************\n",
      "# OVALES DE DESCARTES\n",
      "# ****************************************************************************\n",
      "\n",
      "\n",
      "$ L'équation est  y^4 + 2*x^2*y^2 - 16/3*x*y^2 - 22/3*y^2 + x^4 - 16/3*x^3 - 2/9*x^2 + 80/9*x + 25/9\n"
     ]
    },
    {
     "data": {
      "image/png": "[encoded data removed]",
      "text/plain": [
       "Graphics object consisting of 1 graphics primitive"
      ]
     },
     "execution_count": 132,
     "metadata": {},
     "output_type": "execute_result"
    }
   ],
   "source": [
    "print(\"\"\"\\\n",
    "# ****************************************************************************\n",
    "# OVALES DE DESCARTES\n",
    "# ****************************************************************************\n",
    "\"\"\")\n",
    "\n",
    "\n",
    "# Donnees de l'enonce de l'exercice\n",
    "\n",
    "MPol.<x,y,w,z> = PolynomialRing(QQ,4,order='invlex')\n",
    "f1 = w+2*z-3\n",
    "f2 = w^2 - (x^2 + y^2)\n",
    "f3 = z^2 - ((x-1)^2 + y^2)\n",
    "I = Ideal(f1,f2,f3)\n",
    "base = I.groebner_basis()\n",
    "# Code pour l'EXERCICE\n",
    "\n",
    "eq = base[-1]\n",
    "\n",
    "# # Affichage des resultats\n",
    "\n",
    "MPol2.<x,y> = PolynomialRing(QQ,2,order='lex')\n",
    "\n",
    "print(\"\\n$ L'équation est \",eq)\n",
    "implicit_plot(MPol2(eq),(x,-2,6),(y,-4,4))"
   ]
  }
 ],
 "metadata": {
  "kernelspec": {
   "display_name": "SageMath 9.7",
   "language": "sage",
   "name": "sagemath"
  },
  "language_info": {
   "codemirror_mode": {
    "name": "ipython",
    "version": 3
   },
   "file_extension": ".py",
   "mimetype": "text/x-python",
   "name": "python",
   "nbconvert_exporter": "python",
   "pygments_lexer": "ipython3",
   "version": "3.10.8"
  }
 },
 "nbformat": 4,
 "nbformat_minor": 5
}
