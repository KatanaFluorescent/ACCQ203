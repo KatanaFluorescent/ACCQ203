{
 "cells": [
  {
   "cell_type": "code",
   "execution_count": 42,
   "id": "3af661e1",
   "metadata": {},
   "outputs": [
    {
     "name": "stdout",
     "output_type": "stream",
     "text": [
      "Type de e1 : <class 'sage.rings.integer.Integer'>\n",
      "Parent de e1 : Integer Ring\n",
      "Inverse de e1 : 1/1463292\n",
      "Type de e1:  <class 'sage.rings.finite_rings.integer_mod.IntegerMod_int64'>\n",
      "Parent de e2:  Ring of integers modulo 5328396\n",
      "Inverse de e2:  2116291\n"
     ]
    }
   ],
   "source": [
    "p = random_prime(10000)\n",
    "q = random_prime(10000)\n",
    "n = p*q \n",
    "phi = (p-1)*(q-1)\n",
    "\n",
    "e1 = ZZ.random_element(phi)\n",
    "while True :\n",
    "    try :\n",
    "        e2 = ZZ.random_element(phi)\n",
    "        e2 = mod(e2, phi)\n",
    "        d=1/e2\n",
    "        break\n",
    "    except ZeroDivisionError:\n",
    "        pass\n",
    "\n",
    "print(\"Type de e1 :\",type(e1))\n",
    "print(\"Parent de e1 :\",parent(e1))\n",
    "print(\"Inverse de e1 :\", 1/e1)\n",
    "print(\"Type de e1: \", type(e2))\n",
    "print(\"Parent de e2: \", parent(e2))\n",
    "print(\"Inverse de e2: \", 1/e2)"
   ]
  },
  {
   "cell_type": "code",
   "execution_count": 43,
   "id": "fa4721b0",
   "metadata": {},
   "outputs": [],
   "source": [
    "def Chiffrement(a):\n",
    "    return mod(a, n)^e\n",
    "Dechiffrement = lambda b : mod(b,n)^d \n",
    "\n",
    "# C'est le chiffrement RSA, avec d = e^-1 mod n"
   ]
  },
  {
   "cell_type": "code",
   "execution_count": 44,
   "id": "e84d9c2b",
   "metadata": {},
   "outputs": [],
   "source": [
    "xgcd?"
   ]
  },
  {
   "cell_type": "code",
   "execution_count": 45,
   "id": "16b259d0",
   "metadata": {
    "scrolled": true
   },
   "outputs": [
    {
     "name": "stdout",
     "output_type": "stream",
     "text": [
      "Relation de Bezout : 1 = 119*-106+435*29\n"
     ]
    }
   ],
   "source": [
    "a = 119\n",
    "b = 435\n",
    "(g,s,t) = xgcd(a,b)\n",
    "print(f'Relation de Bezout : {g} = {a}*{s}+{b}*{t}')"
   ]
  },
  {
   "cell_type": "code",
   "execution_count": 46,
   "id": "52bef3bb",
   "metadata": {},
   "outputs": [],
   "source": [
    "crt?"
   ]
  },
  {
   "cell_type": "code",
   "execution_count": 47,
   "id": "b3217060",
   "metadata": {},
   "outputs": [
    {
     "name": "stdout",
     "output_type": "stream",
     "text": [
      "Solution du système de congruences : x = 227\n"
     ]
    }
   ],
   "source": [
    "a = 2\n",
    "b = 3\n",
    "m = 45\n",
    "n = 14\n",
    "x = crt(a,b,m,n)\n",
    "print(f\"Solution du système de congruences : x = {x}\")"
   ]
  },
  {
   "cell_type": "code",
   "execution_count": 61,
   "id": "b9c0d196",
   "metadata": {},
   "outputs": [
    {
     "name": "stdout",
     "output_type": "stream",
     "text": [
      "(148, 108, 41, 137)\n",
      "[  1 148 108  96]\n",
      "[  0 108  51  44]\n",
      "[  0  41 105  94]\n",
      "[  0 137  17 100]\n"
     ]
    }
   ],
   "source": [
    "p = 157\n",
    "Fp = FiniteField(p)\n",
    "k = 4\n",
    "q = p^k\n",
    "Fq.<alpha> = FiniteField(q)\n",
    "def frob(x):\n",
    "    return vector(x^p)\n",
    "print(frob(alpha))\n",
    "Q = matrix(Fq,4,4,[frob(alpha^i) for i in range(4)])\n",
    "Q = Q.transpose()\n",
    "print(Q)"
   ]
  },
  {
   "cell_type": "code",
   "execution_count": 49,
   "id": "0eb78cb9",
   "metadata": {},
   "outputs": [
    {
     "name": "stdout",
     "output_type": "stream",
     "text": [
      "[103, 7, 88, 109]\n",
      "(103, 7, 88, 109) <class 'sage.modules.free_module_element.FreeModuleElement_generic_dense'>\n"
     ]
    }
   ],
   "source": [
    "# 1ère manière \n",
    "z = 130*alpha^3 + 97* alpha^2 + 99* alpha + 18\n",
    "print(frob(z))\n",
    "# 2nde manière\n",
    "z_vec = vector(Fq, z.list())\n",
    "res = Q * z_vec\n",
    "print(res, type(res))"
   ]
  },
  {
   "cell_type": "code",
   "execution_count": 50,
   "id": "07de669f",
   "metadata": {},
   "outputs": [
    {
     "name": "stdout",
     "output_type": "stream",
     "text": [
      "True\n",
      "True\n",
      "True\n",
      "True\n",
      "True\n",
      "True\n",
      "True\n",
      "True\n",
      "True\n",
      "True\n",
      "True\n",
      "True\n",
      "True\n",
      "True\n",
      "True\n",
      "True\n",
      "True\n",
      "True\n",
      "True\n",
      "True\n",
      "True\n",
      "True\n",
      "True\n",
      "True\n",
      "True\n",
      "True\n",
      "True\n",
      "True\n",
      "True\n",
      "True\n",
      "True\n",
      "True\n",
      "True\n",
      "True\n",
      "True\n",
      "True\n",
      "True\n",
      "True\n",
      "True\n",
      "True\n",
      "True\n",
      "True\n",
      "True\n",
      "True\n",
      "True\n",
      "True\n",
      "True\n",
      "True\n",
      "True\n",
      "True\n",
      "True\n",
      "True\n",
      "True\n",
      "True\n",
      "True\n",
      "True\n",
      "True\n",
      "True\n",
      "True\n",
      "True\n",
      "True\n",
      "True\n",
      "True\n",
      "True\n",
      "True\n",
      "True\n",
      "True\n",
      "True\n",
      "True\n",
      "True\n",
      "True\n",
      "True\n",
      "True\n",
      "True\n",
      "True\n",
      "True\n",
      "True\n",
      "True\n",
      "True\n",
      "True\n",
      "True\n",
      "True\n",
      "True\n",
      "True\n",
      "True\n",
      "True\n",
      "True\n",
      "True\n",
      "True\n",
      "True\n",
      "True\n",
      "True\n",
      "True\n",
      "True\n",
      "True\n",
      "True\n",
      "True\n",
      "True\n",
      "True\n",
      "True\n"
     ]
    }
   ],
   "source": [
    "basis = 1 + alpha + alpha^2 + alpha^3\n",
    "basis = vector(Fq, basis.list())\n",
    "for i in range(100):\n",
    "    x0 = mod(ZZ.random_element(p),p)\n",
    "    x1 = mod(ZZ.random_element(p),p)\n",
    "    x2 = mod(ZZ.random_element(p),p)\n",
    "    x3 = mod(ZZ.random_element(p),p)\n",
    "    vec = vector(Fq, [x0,x1,x2,x3])\n",
    "    res = vector(Fq, [1,alpha,alpha^2,alpha^3])* Q * vec\n",
    "    res2 = (x0 + x1*alpha + x2 * alpha^2 + x3* alpha^3)^p\n",
    "    print(res==res2)"
   ]
  },
  {
   "cell_type": "code",
   "execution_count": 55,
   "id": "624311ea",
   "metadata": {},
   "outputs": [
    {
     "name": "stdout",
     "output_type": "stream",
     "text": [
      "65*alpha^3 + 37*alpha^2 + 151*alpha + 93 65*alpha^3 + 37*alpha^2 + 151*alpha + 93\n"
     ]
    }
   ],
   "source": [
    "#1ere facon : \n",
    "def tau1(x):\n",
    "    # x^q = x :\n",
    "    return(x^(p^(k-1)))\n",
    "z = Fq.random_element()\n",
    "res = tau1(z^p)\n",
    "print(z, res)"
   ]
  },
  {
   "cell_type": "code",
   "execution_count": 68,
   "id": "b2eda2b6",
   "metadata": {},
   "outputs": [
    {
     "name": "stdout",
     "output_type": "stream",
     "text": [
      "65*alpha^3 + 37*alpha^2 + 151*alpha + 93 65*alpha^3 + 37*alpha^2 + 151*alpha + 93\n"
     ]
    }
   ],
   "source": [
    "#2è facon:\n",
    "def tau2(x):\n",
    "    Qinv = Q.inverse()\n",
    "    res = Qinv*x\n",
    "    return vector([1,alpha,alpha^2, alpha^3])*res\n",
    "print(z, tau2(frob(z)))"
   ]
  },
  {
   "cell_type": "code",
   "execution_count": 78,
   "id": "44f5934f",
   "metadata": {},
   "outputs": [],
   "source": [
    "def irreductibles(p,n):\n",
    "    res = []\n",
    "    Fp = FiniteField(p)\n",
    "    Pol.<x> = PolynomialRing(Fp)\n",
    "    polys = Pol.polynomials(n)\n",
    "    for p in polys :\n",
    "        if p.is_irreducible():\n",
    "            res.append(p)\n",
    "    return res"
   ]
  },
  {
   "cell_type": "code",
   "execution_count": 79,
   "id": "037c569e",
   "metadata": {},
   "outputs": [
    {
     "name": "stdout",
     "output_type": "stream",
     "text": [
      "[x^4 + x + 1, x^4 + x^3 + 1, x^4 + x^3 + x^2 + x + 1]\n"
     ]
    }
   ],
   "source": [
    "print(irreductibles(2, 4))"
   ]
  },
  {
   "cell_type": "code",
   "execution_count": 80,
   "id": "b0223090",
   "metadata": {},
   "outputs": [],
   "source": [
    "def primitifs(p,n):\n",
    "    res=[]\n",
    "    for p in irreductibles(p,n):\n",
    "        if p.is_primitive():\n",
    "            res.append(p)\n",
    "    return res"
   ]
  },
  {
   "cell_type": "code",
   "execution_count": 81,
   "id": "297ccd89",
   "metadata": {},
   "outputs": [
    {
     "name": "stdout",
     "output_type": "stream",
     "text": [
      "[x^4 + x + 1, x^4 + x^3 + 1]\n"
     ]
    }
   ],
   "source": [
    "print(primitifs(2,4))"
   ]
  },
  {
   "cell_type": "code",
   "execution_count": 83,
   "id": "5c9f2715",
   "metadata": {},
   "outputs": [],
   "source": [
    "def nombre_primitifs(p,n):\n",
    "    return(len(primitifs(p,n)))"
   ]
  },
  {
   "cell_type": "code",
   "execution_count": 87,
   "id": "be4541c3",
   "metadata": {},
   "outputs": [
    {
     "name": "stdout",
     "output_type": "stream",
     "text": [
      "2 2\n"
     ]
    }
   ],
   "source": [
    "p = 2\n",
    "n = 4\n",
    "print(nombre_primitifs(p,n), euler_phi(p^n - 1)/n)"
   ]
  },
  {
   "cell_type": "code",
   "execution_count": 92,
   "id": "0d1d186d",
   "metadata": {},
   "outputs": [],
   "source": [
    "def cyclotomic(p,n):\n",
    "    Fp = FiniteField(p)\n",
    "    cyclo = Fp['x'].cyclotomic_polynomial(p^n -1)\n",
    "    test = cyclo == prod(primitifs(p,n))\n",
    "    return(test)"
   ]
  },
  {
   "cell_type": "code",
   "execution_count": 93,
   "id": "c18087b5",
   "metadata": {},
   "outputs": [
    {
     "name": "stdout",
     "output_type": "stream",
     "text": [
      "True\n"
     ]
    }
   ],
   "source": [
    "print(cyclotomic(2,2))"
   ]
  },
  {
   "cell_type": "code",
   "execution_count": 113,
   "id": "894e81dc",
   "metadata": {},
   "outputs": [
    {
     "name": "stdout",
     "output_type": "stream",
     "text": [
      "[(4*alpha2, 1), (2*alpha2^2 + 2*alpha2, 1), (6*alpha2^3 + 4*alpha2 + 1, 1), (alpha2^3 + 5*alpha2^2 + 4*alpha2 + 6, 1)]\n",
      "[Ring morphism:\n",
      "  From: Finite Field in alpha1 of size 7^4\n",
      "  To:   Finite Field in alpha2 of size 7^4\n",
      "  Defn: alpha1 |--> 4*alpha2, Ring morphism:\n",
      "  From: Finite Field in alpha1 of size 7^4\n",
      "  To:   Finite Field in alpha2 of size 7^4\n",
      "  Defn: alpha1 |--> 2*alpha2^2 + 2*alpha2, Ring morphism:\n",
      "  From: Finite Field in alpha1 of size 7^4\n",
      "  To:   Finite Field in alpha2 of size 7^4\n",
      "  Defn: alpha1 |--> 6*alpha2^3 + 4*alpha2 + 1, Ring morphism:\n",
      "  From: Finite Field in alpha1 of size 7^4\n",
      "  To:   Finite Field in alpha2 of size 7^4\n",
      "  Defn: alpha1 |--> alpha2^3 + 5*alpha2^2 + 4*alpha2 + 6]\n",
      "2*alpha2^2\n"
     ]
    }
   ],
   "source": [
    "irr = irreductibles(7, 4)\n",
    "p1 = irr[0]\n",
    "p2 = irr[1]\n",
    "FQ1.<alpha1> = FiniteField(7^4, modulus = p1)\n",
    "FQ2.<alpha2> = FiniteField(7^4, modulus = p2)\n",
    "# phi(alpha1) est une racine de P1 sur FQ2\n",
    "# il y a donc n isom\n",
    "# on cherche toutes les racines de p1 sur FQ2\n",
    "roots = p1.roots(FQ2)\n",
    "print(roots)\n",
    "homs = []\n",
    "for r in roots :\n",
    "    hom = FQ1.hom([r[0]], FQ2)\n",
    "    homs.append(hom)\n",
    "print(homs)\n",
    "print(homs[0](alpha1^2))"
   ]
  },
  {
   "cell_type": "code",
   "execution_count": 114,
   "id": "96af8cca",
   "metadata": {},
   "outputs": [
    {
     "name": "stdout",
     "output_type": "stream",
     "text": [
      "Vector space of degree 3 and dimension 1 over Rational Field\n",
      "Basis matrix:\n",
      "[  1 1/3 5/3] Vector space of degree 3 and dimension 1 over Rational Field\n",
      "Basis matrix:\n",
      "[  1 1/3 5/3]\n"
     ]
    }
   ],
   "source": [
    "A = matrix(QQ, 3, 3, [[-2,1,1],[8,1,-5],[4,3,-3]])\n",
    "C = matrix(QQ, 3, 3 , [[1,2,-1],[2,-1,-1],[-5,0,3]])\n",
    "print(A.right_kernel(),C.right_kernel())"
   ]
  },
  {
   "cell_type": "code",
   "execution_count": 119,
   "id": "6657efcd",
   "metadata": {},
   "outputs": [
    {
     "name": "stdout",
     "output_type": "stream",
     "text": [
      "[ 0 -1  0]\n",
      "[ 2  3  0]\n",
      "[ 2  1  0]\n"
     ]
    }
   ],
   "source": [
    "X0= C.solve_left(A)\n",
    "print(X0)"
   ]
  },
  {
   "cell_type": "code",
   "execution_count": 121,
   "id": "6d03ce5f",
   "metadata": {},
   "outputs": [
    {
     "name": "stdout",
     "output_type": "stream",
     "text": [
      "Vector space of degree 3 and dimension 1 over Rational Field\n",
      "Basis matrix:\n",
      "[1 2 1]\n"
     ]
    }
   ],
   "source": [
    "# ensemble des solution de la forme X0 + X où XC = 0, i.e les vecteurs lignes de X sont dans le left_ker de C\n",
    "left_ker = C.left_kernel()\n",
    "print(left_ker)"
   ]
  },
  {
   "cell_type": "code",
   "execution_count": 20,
   "id": "2e68e7b4",
   "metadata": {},
   "outputs": [
    {
     "name": "stdout",
     "output_type": "stream",
     "text": [
      "145\n",
      "[ 3 -7  2]\n",
      "[ 4  6 -1]\n",
      "[-4  3  2]\n"
     ]
    }
   ],
   "source": [
    "A= matrix(ZZ, 3, 3, [[3,-7,2],[4,6,-1],[-4,3,2]])\n",
    "P, L, U = A.LU()\n",
    "det = P.det()*L.det()*U.det()\n",
    "print(det)\n",
    "print(A)"
   ]
  },
  {
   "cell_type": "code",
   "execution_count": 15,
   "id": "a2d1b8a5",
   "metadata": {},
   "outputs": [],
   "source": [
    "def myGaussBareiss(M) :\n",
    "    c = 1 \n",
    "    s = 1 \n",
    "    n = M.dimensions()[0]\n",
    "    for k in range(0, n-1):\n",
    "        if M[k,k] == 0 :\n",
    "            i0 = -1\n",
    "            for i in range(k+1, n):\n",
    "                if M[i,k] != 0 :\n",
    "                    i0 = i\n",
    "                    break\n",
    "            if i0 !=-1 :\n",
    "                for j in range(k,n):\n",
    "                    temp = M[i0,j]\n",
    "                    M[i0,j] = M[k,j]\n",
    "                    M[k,j] = temp\n",
    "                s = -s\n",
    "            else :\n",
    "                return 0\n",
    "        for i in range(k+1, n):\n",
    "            for j in range (k+1, n):\n",
    "                M[i,j] = (M[k,k]*M[i,j]-M[i,k]*M[k,j])/c\n",
    "        c = M[k,k]\n",
    "    return s* M[n-1,n-1]"
   ]
  },
  {
   "cell_type": "code",
   "execution_count": 29,
   "id": "e3e592d1",
   "metadata": {},
   "outputs": [
    {
     "name": "stdout",
     "output_type": "stream",
     "text": [
      "True\n"
     ]
    }
   ],
   "source": [
    "bool = False\n",
    "for i in range (2,12) :\n",
    "    for j in range(1000):\n",
    "        A = random_matrix(ZZ,i,i)\n",
    "        bool = A.det() == myGaussBareiss(A)\n",
    "print(bool)"
   ]
  },
  {
   "cell_type": "code",
   "execution_count": null,
   "id": "c84b808a",
   "metadata": {},
   "outputs": [],
   "source": []
  }
 ],
 "metadata": {
  "kernelspec": {
   "display_name": "SageMath 9.7",
   "language": "sage",
   "name": "sagemath"
  },
  "language_info": {
   "codemirror_mode": {
    "name": "ipython",
    "version": 3
   },
   "file_extension": ".py",
   "mimetype": "text/x-python",
   "name": "python",
   "nbconvert_exporter": "python",
   "pygments_lexer": "ipython3",
   "version": "3.10.7"
  }
 },
 "nbformat": 4,
 "nbformat_minor": 5
}
